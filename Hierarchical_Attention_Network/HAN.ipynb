{
  "cells": [
    {
      "metadata": {
        "id": "svDDvMhYgxwM",
        "colab_type": "code",
        "colab": {
          "base_uri": "https://localhost:8080/",
          "height": 35
        },
        "outputId": "95a9914f-ce8e-46f6-e9fb-46d2671cb78f",
        "trusted": true,
        "_uuid": "1642a59f5e4d475a1757b74cf74fc4f48f5cecc3"
      },
      "cell_type": "code",
      "source": "import pandas as pd\nimport numpy as np\nfrom keras.preprocessing.text import Tokenizer,  text_to_word_sequence\nfrom keras.engine.topology import Layer\nfrom keras import initializers as initializers, regularizers, constraints\nfrom keras.callbacks import Callback\nfrom keras.utils.np_utils import to_categorical\nfrom keras.layers import Embedding, Input, Dense, LSTM, GRU, Bidirectional, TimeDistributed\nfrom keras import backend as K\nfrom keras import optimizers\nfrom keras.models import Model\nimport nltk\nimport re\nimport matplotlib.pyplot as plt\nimport sys\nfrom sklearn.metrics import roc_auc_score\nfrom nltk import tokenize",
      "execution_count": 1,
      "outputs": [
        {
          "output_type": "stream",
          "text": "/opt/conda/lib/python3.6/site-packages/h5py/__init__.py:36: FutureWarning: Conversion of the second argument of issubdtype from `float` to `np.floating` is deprecated. In future, it will be treated as `np.float64 == np.dtype(float).type`.\n  from ._conv import register_converters as _register_converters\nUsing TensorFlow backend.\n",
          "name": "stderr"
        }
      ]
    },
    {
      "metadata": {
        "id": "cIezeWZdlQfx",
        "colab_type": "code",
        "colab": {
          "base_uri": "https://localhost:8080/",
          "height": 35
        },
        "outputId": "39d24f15-1cee-4e4b-d955-574a6f960564",
        "trusted": true,
        "_uuid": "a20c225d8b12bab0c11c1f974a0e1e2b096c6a0e"
      },
      "cell_type": "code",
      "source": "!ls",
      "execution_count": 2,
      "outputs": [
        {
          "output_type": "stream",
          "text": "__notebook_source__.ipynb\r\n",
          "name": "stdout"
        }
      ]
    },
    {
      "metadata": {
        "id": "u01IFY1Hgxwf",
        "colab_type": "text",
        "_uuid": "4440f99cbe40c318bd13ee6ecbbe1a3cb162fa40"
      },
      "cell_type": "markdown",
      "source": "### Attention Layer"
    },
    {
      "metadata": {
        "id": "XbOJEMv7gxwi",
        "colab_type": "code",
        "colab": {},
        "trusted": true,
        "collapsed": true,
        "_uuid": "668e772f91421e5a8e87c3f97429c04d1d372f0d"
      },
      "cell_type": "code",
      "source": "def dot_product(x, kernel):\n    \"\"\"\n    Wrapper for dot product operation, in order to be compatible with both\n    Theano and Tensorflow\n    Args:\n        x (): input\n        kernel (): weights\n    Returns:\n    \"\"\"\n    if K.backend() == 'tensorflow':\n        return K.squeeze(K.dot(x, K.expand_dims(kernel)), axis=-1)\n    else:\n        return K.dot(x, kernel)\n\nclass AttentionWithContext(Layer):\n    \"\"\"\n    Attention operation, with a context/query vector, for temporal data.\n    Supports Masking.\n    Follows the work of Yang et al. [https://www.cs.cmu.edu/~diyiy/docs/naacl16.pdf]\n    \"Hierarchical Attention Networks for Document Classification\"\n    by using a context vector to assist the attention\n    # Input shape\n        3D tensor with shape: `(samples, steps, features)`.\n    # Output shape\n        2D tensor with shape: `(samples, features)`.\n    How to use:\n    Just put it on top of an RNN Layer (GRU/LSTM/SimpleRNN) with return_sequences=True.\n    The dimensions are inferred based on the output shape of the RNN.\n    Note: The layer has been tested with Keras 2.0.6\n    Example:\n        model.add(LSTM(64, return_sequences=True))\n        model.add(AttentionWithContext())\n        # next add a Dense layer (for classification/regression) or whatever...\n    \"\"\"\n\n    def __init__(self,\n                 W_regularizer=None, u_regularizer=None, b_regularizer=None,\n                 W_constraint=None, u_constraint=None, b_constraint=None,\n                 bias=True, **kwargs):\n\n        self.supports_masking = True\n        self.init = initializers.get('glorot_uniform')\n\n        self.W_regularizer = regularizers.get(W_regularizer)\n        self.u_regularizer = regularizers.get(u_regularizer)\n        self.b_regularizer = regularizers.get(b_regularizer)\n\n        self.W_constraint = constraints.get(W_constraint)\n        self.u_constraint = constraints.get(u_constraint)\n        self.b_constraint = constraints.get(b_constraint)\n\n        self.bias = bias\n        super(AttentionWithContext, self).__init__(**kwargs)\n\n    def build(self, input_shape):\n        assert len(input_shape) == 3\n\n        self.W = self.add_weight((input_shape[-1], input_shape[-1],),\n                                 initializer=self.init,\n                                 name='{}_W'.format(self.name),\n                                 regularizer=self.W_regularizer,\n                                 constraint=self.W_constraint)\n        if self.bias:\n            self.b = self.add_weight((input_shape[-1],),\n                                     initializer='zero',\n                                     name='{}_b'.format(self.name),\n                                     regularizer=self.b_regularizer,\n                                     constraint=self.b_constraint)\n\n        self.u = self.add_weight((input_shape[-1],),\n                                 initializer=self.init,\n                                 name='{}_u'.format(self.name),\n                                 regularizer=self.u_regularizer,\n                                 constraint=self.u_constraint)\n\n        super(AttentionWithContext, self).build(input_shape)\n\n    def compute_mask(self, input, input_mask=None):\n        # do not pass the mask to the next layers\n        return None\n\n    def call(self, x, mask=None):\n        uit = dot_product(x, self.W)\n\n        if self.bias:\n            uit += self.b\n\n        uit = K.tanh(uit)\n        ait = dot_product(uit, self.u)\n\n        a = K.exp(ait)\n\n        # apply mask after the exp. will be re-normalized next\n        if mask is not None:\n            # Cast the mask to floatX to avoid float64 upcasting in theano\n            a *= K.cast(mask, K.floatx())\n\n        # in some cases especially in the early stages of training the sum may be almost zero\n        # and this results in NaN's. A workaround is to add a very small positive number ε to the sum.\n        # a /= K.cast(K.sum(a, axis=1, keepdims=True), K.floatx())\n        a /= K.cast(K.sum(a, axis=1, keepdims=True) + K.epsilon(), K.floatx())\n\n        a = K.expand_dims(a)\n        weighted_input = x * a\n        return K.sum(weighted_input, axis=1)\n\n    def compute_output_shape(self, input_shape):\n        return input_shape[0], input_shape[-1]",
      "execution_count": 3,
      "outputs": []
    },
    {
      "metadata": {
        "id": "rWL4urlHgxwu",
        "colab_type": "text",
        "_uuid": "de867e70a1b042a2ac5a31a8fdcb0dbc2ddc13f9"
      },
      "cell_type": "markdown",
      "source": "### Config"
    },
    {
      "metadata": {
        "id": "wvVCtTJbgxwx",
        "colab_type": "code",
        "colab": {},
        "trusted": true,
        "collapsed": true,
        "_uuid": "8e970050b9852e54e964961fe0110226348860c1"
      },
      "cell_type": "code",
      "source": "max_features=200000\nmax_senten_len=500\nmax_senten_num=15\nembed_size=200\nVALIDATION_SPLIT = 0.2",
      "execution_count": 4,
      "outputs": []
    },
    {
      "metadata": {
        "id": "iphJED4Qgxw8",
        "colab_type": "text",
        "_uuid": "da31e0150178690c03f71da4f77c1883a4639cb3"
      },
      "cell_type": "markdown",
      "source": "### Data"
    },
    {
      "metadata": {
        "id": "SISE6xEnrKx_",
        "colab_type": "code",
        "colab": {},
        "trusted": true,
        "collapsed": true,
        "_uuid": "66b5c24a07ba29ee90cb163703dcf9433249000a"
      },
      "cell_type": "code",
      "source": "import json\nfrom sklearn.utils import shuffle",
      "execution_count": 5,
      "outputs": []
    },
    {
      "metadata": {
        "id": "83stXVBjgxw-",
        "colab_type": "code",
        "colab": {},
        "trusted": true,
        "collapsed": true,
        "_uuid": "1dfa79cd274172897f8f5a90594e7cbe1d30fc30"
      },
      "cell_type": "code",
      "source": "df = shuffle(pd.read_json('../input/news-category-dataset/News_Category_Dataset.json', lines=True))[:5000].reset_index()",
      "execution_count": 6,
      "outputs": []
    },
    {
      "metadata": {
        "id": "yn2rJmMsfPOO",
        "colab_type": "code",
        "colab": {
          "base_uri": "https://localhost:8080/",
          "height": 35
        },
        "outputId": "e8cc4a75-083a-4099-a16b-a4e9c414fb93",
        "trusted": true,
        "_uuid": "bf9f1ccf81d0e91bc2722f119677314301a73af3"
      },
      "cell_type": "code",
      "source": "len(df.category.unique())",
      "execution_count": 7,
      "outputs": [
        {
          "output_type": "execute_result",
          "execution_count": 7,
          "data": {
            "text/plain": "31"
          },
          "metadata": {}
        }
      ]
    },
    {
      "metadata": {
        "id": "mkBa2gzGq5MD",
        "colab_type": "code",
        "colab": {
          "base_uri": "https://localhost:8080/",
          "height": 588
        },
        "outputId": "343f8c37-4ce1-4821-f42b-aee7c944d6b3",
        "trusted": true,
        "_uuid": "4e2ea661300670641050fd8870ce3cea821f1a2d"
      },
      "cell_type": "code",
      "source": "df.head()",
      "execution_count": 8,
      "outputs": [
        {
          "output_type": "execute_result",
          "execution_count": 8,
          "data": {
            "text/plain": "    index            authors       category       date  \\\n0   81195      Steven Hoffer        SCIENCE 2015-09-03   \n1  113250      Jason Linkins       POLITICS 2014-08-31   \n2  103752  Christopher Rosen  ENTERTAINMENT 2014-12-18   \n3   61862                     ENTERTAINMENT 2016-04-09   \n4   37774    Todd Van Luling  ENTERTAINMENT 2017-01-09   \n\n                                            headline  \\\n0  Dione Crosses Saturn's Disk In Spectacular New...   \n1  Barack Obama And The Misery Of His Augusts, Ra...   \n2  Aaron Sorkin Partly Blames Media For 'The Inte...   \n3  Paul Walker's Daughter Meadow Reaches $10 Mill...   \n4  Golden Globes Air Special In Memoriam Segment ...   \n\n                                                link  \\\n0  https://www.huffingtonpost.com/entry/saturn-mo...   \n1  https://www.huffingtonpost.com/entry/barack-ob...   \n2  https://www.huffingtonpost.com/entry/aaron-sor...   \n3  https://www.huffingtonpost.com/entry/meadow-wa...   \n4  https://www.huffingtonpost.com/entry/golden-gl...   \n\n                                   short_description  \n0  The photo was captured from approximately 1.4 ...  \n1  There was definitely a time in President Barac...  \n2                                                     \n3  The money will go into a trust for the 17-year...  \n4  The award show made an exception for the mothe...  ",
            "text/html": "<div>\n<style scoped>\n    .dataframe tbody tr th:only-of-type {\n        vertical-align: middle;\n    }\n\n    .dataframe tbody tr th {\n        vertical-align: top;\n    }\n\n    .dataframe thead th {\n        text-align: right;\n    }\n</style>\n<table border=\"1\" class=\"dataframe\">\n  <thead>\n    <tr style=\"text-align: right;\">\n      <th></th>\n      <th>index</th>\n      <th>authors</th>\n      <th>category</th>\n      <th>date</th>\n      <th>headline</th>\n      <th>link</th>\n      <th>short_description</th>\n    </tr>\n  </thead>\n  <tbody>\n    <tr>\n      <th>0</th>\n      <td>81195</td>\n      <td>Steven Hoffer</td>\n      <td>SCIENCE</td>\n      <td>2015-09-03</td>\n      <td>Dione Crosses Saturn's Disk In Spectacular New...</td>\n      <td>https://www.huffingtonpost.com/entry/saturn-mo...</td>\n      <td>The photo was captured from approximately 1.4 ...</td>\n    </tr>\n    <tr>\n      <th>1</th>\n      <td>113250</td>\n      <td>Jason Linkins</td>\n      <td>POLITICS</td>\n      <td>2014-08-31</td>\n      <td>Barack Obama And The Misery Of His Augusts, Ra...</td>\n      <td>https://www.huffingtonpost.com/entry/barack-ob...</td>\n      <td>There was definitely a time in President Barac...</td>\n    </tr>\n    <tr>\n      <th>2</th>\n      <td>103752</td>\n      <td>Christopher Rosen</td>\n      <td>ENTERTAINMENT</td>\n      <td>2014-12-18</td>\n      <td>Aaron Sorkin Partly Blames Media For 'The Inte...</td>\n      <td>https://www.huffingtonpost.com/entry/aaron-sor...</td>\n      <td></td>\n    </tr>\n    <tr>\n      <th>3</th>\n      <td>61862</td>\n      <td></td>\n      <td>ENTERTAINMENT</td>\n      <td>2016-04-09</td>\n      <td>Paul Walker's Daughter Meadow Reaches $10 Mill...</td>\n      <td>https://www.huffingtonpost.com/entry/meadow-wa...</td>\n      <td>The money will go into a trust for the 17-year...</td>\n    </tr>\n    <tr>\n      <th>4</th>\n      <td>37774</td>\n      <td>Todd Van Luling</td>\n      <td>ENTERTAINMENT</td>\n      <td>2017-01-09</td>\n      <td>Golden Globes Air Special In Memoriam Segment ...</td>\n      <td>https://www.huffingtonpost.com/entry/golden-gl...</td>\n      <td>The award show made an exception for the mothe...</td>\n    </tr>\n  </tbody>\n</table>\n</div>"
          },
          "metadata": {}
        }
      ]
    },
    {
      "metadata": {
        "id": "cEhKU6wPq5HZ",
        "colab_type": "code",
        "colab": {},
        "trusted": true,
        "collapsed": true,
        "_uuid": "923adeea51ed5a9a2598f456f27a5aa596eb78bd"
      },
      "cell_type": "code",
      "source": "df['text'] = df['headline'] +'. ' +df['short_description']",
      "execution_count": 9,
      "outputs": []
    },
    {
      "metadata": {
        "id": "7Q5PnT6M44If",
        "colab_type": "code",
        "colab": {
          "base_uri": "https://localhost:8080/",
          "height": 626
        },
        "outputId": "994f280b-bc40-4f3a-b288-1b5a922c72cd",
        "trusted": true,
        "_uuid": "a5fea8907a2d824ba0becf68142efe9ab6c56da6"
      },
      "cell_type": "code",
      "source": "df.head()",
      "execution_count": 10,
      "outputs": [
        {
          "output_type": "execute_result",
          "execution_count": 10,
          "data": {
            "text/plain": "    index            authors       category       date  \\\n0   81195      Steven Hoffer        SCIENCE 2015-09-03   \n1  113250      Jason Linkins       POLITICS 2014-08-31   \n2  103752  Christopher Rosen  ENTERTAINMENT 2014-12-18   \n3   61862                     ENTERTAINMENT 2016-04-09   \n4   37774    Todd Van Luling  ENTERTAINMENT 2017-01-09   \n\n                                            headline  \\\n0  Dione Crosses Saturn's Disk In Spectacular New...   \n1  Barack Obama And The Misery Of His Augusts, Ra...   \n2  Aaron Sorkin Partly Blames Media For 'The Inte...   \n3  Paul Walker's Daughter Meadow Reaches $10 Mill...   \n4  Golden Globes Air Special In Memoriam Segment ...   \n\n                                                link  \\\n0  https://www.huffingtonpost.com/entry/saturn-mo...   \n1  https://www.huffingtonpost.com/entry/barack-ob...   \n2  https://www.huffingtonpost.com/entry/aaron-sor...   \n3  https://www.huffingtonpost.com/entry/meadow-wa...   \n4  https://www.huffingtonpost.com/entry/golden-gl...   \n\n                                   short_description  \\\n0  The photo was captured from approximately 1.4 ...   \n1  There was definitely a time in President Barac...   \n2                                                      \n3  The money will go into a trust for the 17-year...   \n4  The award show made an exception for the mothe...   \n\n                                                text  \n0  Dione Crosses Saturn's Disk In Spectacular New...  \n1  Barack Obama And The Misery Of His Augusts, Ra...  \n2  Aaron Sorkin Partly Blames Media For 'The Inte...  \n3  Paul Walker's Daughter Meadow Reaches $10 Mill...  \n4  Golden Globes Air Special In Memoriam Segment ...  ",
            "text/html": "<div>\n<style scoped>\n    .dataframe tbody tr th:only-of-type {\n        vertical-align: middle;\n    }\n\n    .dataframe tbody tr th {\n        vertical-align: top;\n    }\n\n    .dataframe thead th {\n        text-align: right;\n    }\n</style>\n<table border=\"1\" class=\"dataframe\">\n  <thead>\n    <tr style=\"text-align: right;\">\n      <th></th>\n      <th>index</th>\n      <th>authors</th>\n      <th>category</th>\n      <th>date</th>\n      <th>headline</th>\n      <th>link</th>\n      <th>short_description</th>\n      <th>text</th>\n    </tr>\n  </thead>\n  <tbody>\n    <tr>\n      <th>0</th>\n      <td>81195</td>\n      <td>Steven Hoffer</td>\n      <td>SCIENCE</td>\n      <td>2015-09-03</td>\n      <td>Dione Crosses Saturn's Disk In Spectacular New...</td>\n      <td>https://www.huffingtonpost.com/entry/saturn-mo...</td>\n      <td>The photo was captured from approximately 1.4 ...</td>\n      <td>Dione Crosses Saturn's Disk In Spectacular New...</td>\n    </tr>\n    <tr>\n      <th>1</th>\n      <td>113250</td>\n      <td>Jason Linkins</td>\n      <td>POLITICS</td>\n      <td>2014-08-31</td>\n      <td>Barack Obama And The Misery Of His Augusts, Ra...</td>\n      <td>https://www.huffingtonpost.com/entry/barack-ob...</td>\n      <td>There was definitely a time in President Barac...</td>\n      <td>Barack Obama And The Misery Of His Augusts, Ra...</td>\n    </tr>\n    <tr>\n      <th>2</th>\n      <td>103752</td>\n      <td>Christopher Rosen</td>\n      <td>ENTERTAINMENT</td>\n      <td>2014-12-18</td>\n      <td>Aaron Sorkin Partly Blames Media For 'The Inte...</td>\n      <td>https://www.huffingtonpost.com/entry/aaron-sor...</td>\n      <td></td>\n      <td>Aaron Sorkin Partly Blames Media For 'The Inte...</td>\n    </tr>\n    <tr>\n      <th>3</th>\n      <td>61862</td>\n      <td></td>\n      <td>ENTERTAINMENT</td>\n      <td>2016-04-09</td>\n      <td>Paul Walker's Daughter Meadow Reaches $10 Mill...</td>\n      <td>https://www.huffingtonpost.com/entry/meadow-wa...</td>\n      <td>The money will go into a trust for the 17-year...</td>\n      <td>Paul Walker's Daughter Meadow Reaches $10 Mill...</td>\n    </tr>\n    <tr>\n      <th>4</th>\n      <td>37774</td>\n      <td>Todd Van Luling</td>\n      <td>ENTERTAINMENT</td>\n      <td>2017-01-09</td>\n      <td>Golden Globes Air Special In Memoriam Segment ...</td>\n      <td>https://www.huffingtonpost.com/entry/golden-gl...</td>\n      <td>The award show made an exception for the mothe...</td>\n      <td>Golden Globes Air Special In Memoriam Segment ...</td>\n    </tr>\n  </tbody>\n</table>\n</div>"
          },
          "metadata": {}
        }
      ]
    },
    {
      "metadata": {
        "id": "QTbOuQw7gxxH",
        "colab_type": "code",
        "colab": {},
        "trusted": true,
        "collapsed": true,
        "_uuid": "120aa99478cccb4022937e6b6d3abd92c74f5bb3"
      },
      "cell_type": "code",
      "source": "df = df[['text', 'category']]",
      "execution_count": 11,
      "outputs": []
    },
    {
      "metadata": {
        "id": "JVUm8F55gxxP",
        "colab_type": "code",
        "colab": {
          "base_uri": "https://localhost:8080/",
          "height": 142
        },
        "outputId": "b6dca62a-738e-448b-a935-f9dafef95ad7",
        "trusted": true,
        "_uuid": "36ad12bc4f9634905d660c932d6eb93ec3d1df68"
      },
      "cell_type": "code",
      "source": "df.info()",
      "execution_count": 12,
      "outputs": [
        {
          "output_type": "stream",
          "text": "<class 'pandas.core.frame.DataFrame'>\nRangeIndex: 5000 entries, 0 to 4999\nData columns (total 2 columns):\ntext        5000 non-null object\ncategory    5000 non-null object\ndtypes: object(2)\nmemory usage: 78.2+ KB\n",
          "name": "stdout"
        }
      ]
    },
    {
      "metadata": {
        "id": "OHNjk6rEgxxm",
        "colab_type": "code",
        "colab": {},
        "trusted": true,
        "collapsed": true,
        "_uuid": "bc5f1a4dd769e3905f5df497832df8b303783dda"
      },
      "cell_type": "code",
      "source": "categories = df['category']\ntext = df['text']",
      "execution_count": 13,
      "outputs": []
    },
    {
      "metadata": {
        "id": "YJOFyzjf5fe0",
        "colab_type": "code",
        "colab": {},
        "trusted": true,
        "collapsed": true,
        "_uuid": "86e266a58a5e847021fc6cebd4fc30991d02bdf9"
      },
      "cell_type": "code",
      "source": "paras = []\nlabels = []\ntexts = []",
      "execution_count": 14,
      "outputs": []
    },
    {
      "metadata": {
        "id": "FxeewB4Jgxx3",
        "colab_type": "code",
        "colab": {
          "base_uri": "https://localhost:8080/",
          "height": 53
        },
        "outputId": "909116f6-d7a0-4383-91cb-f6de9d3171ed",
        "trusted": true,
        "_uuid": "4b8f64afbf8acc01a08f6f4ec577053908c7cc7d"
      },
      "cell_type": "code",
      "source": "max_sent_len_exist = 0\nmax_sent_num_exist = 0\nfor idx in range(df.text.shape[0]):\n    text = df.text[idx]\n    texts.append(text)\n    sentences = tokenize.sent_tokenize(text)\n    if max_sent_num_exist < len(sentences):\n        max_sent_num_exist = len(sentences)\n    for sent in sentences:\n        if max_sent_len_exist < len(sent):\n            max_sent_len_exist = len(sent)\n    \nparas.append(sentences)\nprint('Max existing sentence len:',max_sent_len_exist )\nprint('Max existant sentence num:',max_sent_num_exist )",
      "execution_count": 15,
      "outputs": [
        {
          "output_type": "stream",
          "text": "Max existing sentence len: 377\nMax existant sentence num: 14\n",
          "name": "stdout"
        }
      ]
    },
    {
      "metadata": {
        "id": "zVjGIuJygxyP",
        "colab_type": "code",
        "colab": {},
        "trusted": true,
        "collapsed": true,
        "_uuid": "c3ea2a3aefd267b46c0947c04a7ad58bc9ca5e64"
      },
      "cell_type": "code",
      "source": "tokenizer = Tokenizer(num_words=max_features, oov_token=True)\ntokenizer.fit_on_texts(texts)",
      "execution_count": 16,
      "outputs": []
    },
    {
      "metadata": {
        "id": "99Jsdgjzgxyc",
        "colab_type": "code",
        "colab": {},
        "trusted": true,
        "collapsed": true,
        "_uuid": "2c6fca0199d8a02d21834d71b8acf8809cf3af39"
      },
      "cell_type": "code",
      "source": "data = np.zeros((len(texts), max_senten_num, max_senten_len), dtype='int32')\nfor i, sentences in enumerate(paras):\n    for j, sent in enumerate(sentences):\n        if j< max_senten_num:\n            wordTokens = text_to_word_sequence(sent)\n            k=0\n            for _, word in enumerate(wordTokens):\n                if k<max_senten_len and tokenizer.word_index[word]<max_features:\n                    data[i,j,k] = tokenizer.word_index[word]\n                    k=k+1",
      "execution_count": 17,
      "outputs": []
    },
    {
      "metadata": {
        "id": "OpKjmFmHgxyl",
        "colab_type": "code",
        "colab": {
          "base_uri": "https://localhost:8080/",
          "height": 35
        },
        "outputId": "72313723-5fe8-49fa-9969-505c16be3cdc",
        "trusted": true,
        "_uuid": "bd1e9d50df128646970caf5ce82de4af47ff6bdf"
      },
      "cell_type": "code",
      "source": "data.shape",
      "execution_count": 18,
      "outputs": [
        {
          "output_type": "execute_result",
          "execution_count": 18,
          "data": {
            "text/plain": "(5000, 15, 500)"
          },
          "metadata": {}
        }
      ]
    },
    {
      "metadata": {
        "id": "YUgnmB2Igxyt",
        "colab_type": "code",
        "colab": {
          "base_uri": "https://localhost:8080/",
          "height": 35
        },
        "outputId": "c5202c59-4f84-49fd-8bfa-5202f2b93262",
        "trusted": true,
        "_uuid": "5d65bf7613c3e0e217b569fe1eb71fe7cc860cad"
      },
      "cell_type": "code",
      "source": "word_index = tokenizer.word_index\nprint('Total %s unique tokens.' % len(word_index))",
      "execution_count": 19,
      "outputs": [
        {
          "output_type": "stream",
          "text": "Total 17796 unique tokens.\n",
          "name": "stdout"
        }
      ]
    },
    {
      "metadata": {
        "id": "InD64lzYvzeL",
        "colab_type": "code",
        "colab": {},
        "trusted": true,
        "collapsed": true,
        "_uuid": "64988b0eb1bde78817814d931878938210926954"
      },
      "cell_type": "code",
      "source": "labels = pd.get_dummies(categories)",
      "execution_count": 20,
      "outputs": []
    },
    {
      "metadata": {
        "id": "edq6g1Ybgxy3",
        "colab_type": "code",
        "colab": {
          "base_uri": "https://localhost:8080/",
          "height": 53
        },
        "outputId": "6eb054ad-6950-4be5-e1ee-831c08847cfa",
        "trusted": true,
        "_uuid": "3b57aabbe00d6cf62bd98d191c45706250416dab"
      },
      "cell_type": "code",
      "source": "print('Shape of data tensor:', data.shape)\nprint('Shape of labels tensor:', labels.shape)",
      "execution_count": 21,
      "outputs": [
        {
          "output_type": "stream",
          "text": "Shape of data tensor: (5000, 15, 500)\nShape of labels tensor: (5000, 31)\n",
          "name": "stdout"
        }
      ]
    },
    {
      "metadata": {
        "id": "ucjMEEnugxy-",
        "colab_type": "code",
        "colab": {
          "base_uri": "https://localhost:8080/",
          "height": 108
        },
        "outputId": "4390f1ea-b954-422d-a705-b333fbf52d4e",
        "trusted": true,
        "_uuid": "7986ef7e95450ca74fbd33aadf8dec63ac3e7c1e"
      },
      "cell_type": "code",
      "source": "indices = np.arange(data.shape[0])\nnp.random.shuffle(indices)\ndata = data[indices]\nlabels = labels.iloc[indices]\nnb_validation_samples = int(VALIDATION_SPLIT * data.shape[0])\n\nx_train = data[:-nb_validation_samples]\ny_train = labels[:-nb_validation_samples]\nx_val = data[-nb_validation_samples:]\ny_val = labels[-nb_validation_samples:]\nprint('Number of positive and negative reviews in traing and validation set')\nprint(y_train.columns.tolist())\nprint(y_train.sum(axis=0).tolist())\nprint(y_val.sum(axis=0).tolist())",
      "execution_count": 22,
      "outputs": [
        {
          "output_type": "stream",
          "text": "Number of positive and negative reviews in traing and validation set\n['ARTS', 'ARTS & CULTURE', 'BLACK VOICES', 'BUSINESS', 'COLLEGE', 'COMEDY', 'CRIME', 'EDUCATION', 'ENTERTAINMENT', 'FIFTY', 'GOOD NEWS', 'GREEN', 'HEALTHY LIVING', 'IMPACT', 'LATINO VOICES', 'MEDIA', 'PARENTS', 'POLITICS', 'QUEER VOICES', 'RELIGION', 'SCIENCE', 'SPORTS', 'STYLE', 'TASTE', 'TECH', 'THE WORLDPOST', 'TRAVEL', 'WEIRD NEWS', 'WOMEN', 'WORLD NEWS', 'WORLDPOST']\n[59, 41, 124, 137, 35, 126, 82, 30, 444, 40, 45, 86, 232, 73, 36, 92, 119, 1063, 163, 82, 55, 141, 66, 56, 41, 108, 69, 61, 131, 81, 82]\n[13, 12, 36, 38, 6, 30, 23, 9, 114, 5, 12, 24, 50, 26, 11, 18, 31, 280, 44, 19, 10, 27, 15, 9, 10, 35, 19, 18, 23, 17, 16]\n",
          "name": "stdout"
        }
      ]
    },
    {
      "metadata": {
        "id": "l2UCwLNggxzM",
        "colab_type": "text",
        "_uuid": "a31545078acc77f424c95c33d59a96f502aba10b"
      },
      "cell_type": "markdown",
      "source": "### Model"
    },
    {
      "metadata": {
        "id": "ZDr03TLigxzQ",
        "colab_type": "code",
        "colab": {},
        "trusted": true,
        "collapsed": true,
        "_uuid": "1115433c3ea4d0f17b5ce6671e3da90b32787faf"
      },
      "cell_type": "code",
      "source": "REG_PARAM = 1e-13\nl2_reg = regularizers.l2(REG_PARAM)",
      "execution_count": 23,
      "outputs": []
    },
    {
      "metadata": {
        "id": "PGRLk4Q1z1U-",
        "colab_type": "code",
        "colab": {},
        "trusted": true,
        "collapsed": true,
        "_uuid": "9bff7cfc93983318f015bc4758dfa94579b9cba1"
      },
      "cell_type": "code",
      "source": "import os",
      "execution_count": 24,
      "outputs": []
    },
    {
      "metadata": {
        "id": "bp4upuqFu3Eb",
        "colab_type": "code",
        "colab": {
          "base_uri": "https://localhost:8080/",
          "height": 35
        },
        "outputId": "2ac20441-d569-4bf5-e7af-aa23e31c866d",
        "trusted": true,
        "_uuid": "88df613e2852c82455dfc92d953f5ff41b1569c0"
      },
      "cell_type": "code",
      "source": "GLOVE_DIR = \"../input/glove-global-vectors-for-word-representation/glove.6B.200d.txt\"\nembeddings_index = {}\nf = open(GLOVE_DIR)\nfor line in f:\n    try:\n        values = line.split()\n        word = values[0]\n        coefs = np.asarray(values[1:], dtype='float32')\n        embeddings_index[word] = coefs\n    except:\n        pass\nf.close()\n\nprint('Total %s word vectors.' % len(embeddings_index))",
      "execution_count": 25,
      "outputs": [
        {
          "output_type": "stream",
          "text": "Total 400000 word vectors.\n",
          "name": "stdout"
        }
      ]
    },
    {
      "metadata": {
        "id": "6jsAMA-H0Nqi",
        "colab_type": "code",
        "colab": {},
        "trusted": true,
        "collapsed": true,
        "_uuid": "cdecbaf4ce77b9246690e0c3e33312f9d3c80616"
      },
      "cell_type": "code",
      "source": "embedding_matrix = np.random.random((len(word_index) + 1, embed_size))\nfor word, i in word_index.items():\n    embedding_vector = embeddings_index.get(word)\n    if embedding_vector is not None:\n        # words not found in embedding index will be all-zeros.\n        embedding_matrix[i] = embedding_vector",
      "execution_count": 26,
      "outputs": []
    },
    {
      "metadata": {
        "id": "k4rWQsaV0Yx8",
        "colab_type": "code",
        "colab": {},
        "trusted": true,
        "collapsed": true,
        "_uuid": "e633b8544e7a209f099130c0573f6045dc9aeec5"
      },
      "cell_type": "code",
      "source": "embedding_layer = Embedding(len(word_index) + 1,embed_size,weights=[embedding_matrix],input_length=max_senten_len,trainable=True)",
      "execution_count": null,
      "outputs": []
    },
    {
      "metadata": {
        "id": "c2RcVWFTgxzc",
        "colab_type": "code",
        "colab": {},
        "trusted": true,
        "collapsed": true,
        "_uuid": "abdb6adfcfaace47815d0ae083ee45a0e2c31e6e"
      },
      "cell_type": "code",
      "source": "word_input = Input(shape=(max_senten_len,), dtype='int32')\nword_sequences = embedding_layer(word_input)\nword_lstm = Bidirectional(LSTM(200, return_sequences=True))(word_sequences)\nword_dense = TimeDistributed(Dense(150))(word_lstm)\nword_att = AttentionWithContext(W_regularizer=l2_reg)(word_dense)\nwordEncoder = Model(word_input, word_att)\n\nsent_input = Input(shape=(max_senten_num, max_senten_len), dtype='int32')\nsent_encoder = TimeDistributed(wordEncoder)(sent_input)\nsent_lstm = Bidirectional(LSTM(200, return_sequences=True))(sent_encoder)\nsent_dense = TimeDistributed(Dense(150))(sent_lstm)\nsent_att = AttentionWithContext(W_regularizer=l2_reg)(sent_dense)\npreds = Dense(31, kernel_regularizer=l2_reg)(sent_att)\nmodel = Model(sent_input, preds)\nmodel.compile(loss='categorical_crossentropy',optimizer='adam',metrics=['accuracy'])",
      "execution_count": null,
      "outputs": []
    },
    {
      "metadata": {
        "id": "nf5L1DvTgxzx",
        "colab_type": "code",
        "colab": {
          "base_uri": "https://localhost:8080/",
          "height": 53
        },
        "outputId": "5148c7e8-7c84-4237-e479-5359b79aea80",
        "trusted": true,
        "_uuid": "70fbbd2f34955592a8968d8ab95ce3fee6d3c64d",
        "collapsed": true
      },
      "cell_type": "code",
      "source": "history = model.fit(x_train, y_train, validation_data=(x_val, y_val),epochs=5, batch_size=64)",
      "execution_count": null,
      "outputs": []
    },
    {
      "metadata": {
        "id": "wolj9v-Hgxz4",
        "colab_type": "text",
        "_uuid": "07e8fe10d1d1f0871910c9b853c63b8f4c9f0ea0"
      },
      "cell_type": "markdown",
      "source": "## Plotting time"
    },
    {
      "metadata": {
        "id": "VtGi4Wb8gxz7",
        "colab_type": "code",
        "colab": {},
        "trusted": true,
        "collapsed": true,
        "_uuid": "57e64fc5401cdcb8a566f12b73cf5b1375b731f2"
      },
      "cell_type": "code",
      "source": "print(history.history.keys())",
      "execution_count": null,
      "outputs": []
    },
    {
      "metadata": {
        "id": "qwdyK1hygx0K",
        "colab_type": "code",
        "colab": {},
        "trusted": true,
        "collapsed": true,
        "_uuid": "ee701e2133cc49ef4d0213a69d0b91da841f45aa"
      },
      "cell_type": "code",
      "source": "# summarize history for accuracy\nplt.plot(history.history['mean_absolute_error'])\nplt.plot(history.history['val_mean_absolute_error'])\nplt.title('model accuracy')\nplt.ylabel('accuracy')\nplt.xlabel('epoch')\nplt.legend(['train', 'test'], loc='upper left')\nplt.show()",
      "execution_count": null,
      "outputs": []
    },
    {
      "metadata": {
        "id": "4gEkjJhNgx0h",
        "colab_type": "code",
        "colab": {},
        "trusted": true,
        "collapsed": true,
        "_uuid": "c368b91a0311a5102155afbe4f2c5e921de70c8b"
      },
      "cell_type": "code",
      "source": "# summarize history for loss\nplt.plot(history.history['loss'])\nplt.plot(history.history['val_loss'])\nplt.title('model loss')\nplt.ylabel('loss')\nplt.xlabel('epoch')\nplt.legend(['train', 'test'], loc='upper left')\nplt.show()",
      "execution_count": null,
      "outputs": []
    },
    {
      "metadata": {
        "id": "S7CPi8SJgx0r",
        "colab_type": "code",
        "colab": {},
        "trusted": true,
        "collapsed": true,
        "_uuid": "00acec50b30ec415a2330689ad8980c328039aa1"
      },
      "cell_type": "code",
      "source": "model.save('han_clap_predictor.h5')",
      "execution_count": null,
      "outputs": []
    },
    {
      "metadata": {
        "id": "9YMhUZe3gx0v",
        "colab_type": "code",
        "colab": {},
        "trusted": true,
        "collapsed": true,
        "_uuid": "0154264d53beb4bb1e6d49fd43c25018b96ff3cc"
      },
      "cell_type": "code",
      "source": "",
      "execution_count": null,
      "outputs": []
    },
    {
      "metadata": {
        "id": "_KZvee64gx06",
        "colab_type": "code",
        "colab": {},
        "trusted": true,
        "collapsed": true,
        "_uuid": "6b3d4700b11d9086dc00f1c2c46a65c07c22a52f"
      },
      "cell_type": "code",
      "source": "",
      "execution_count": null,
      "outputs": []
    }
  ],
  "metadata": {
    "colab": {
      "name": "HAN.ipynb",
      "version": "0.3.2",
      "provenance": [],
      "collapsed_sections": [],
      "toc_visible": true
    },
    "kernelspec": {
      "display_name": "Python 3",
      "language": "python",
      "name": "python3"
    },
    "accelerator": "GPU",
    "language_info": {
      "name": "python",
      "version": "3.6.4",
      "mimetype": "text/x-python",
      "codemirror_mode": {
        "name": "ipython",
        "version": 3
      },
      "pygments_lexer": "ipython3",
      "nbconvert_exporter": "python",
      "file_extension": ".py"
    }
  },
  "nbformat": 4,
  "nbformat_minor": 1
}